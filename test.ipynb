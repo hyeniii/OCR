{
 "cells": [
  {
   "cell_type": "markdown",
   "metadata": {},
   "source": [
    "## Creating custom OCR model from Scratch using Pytorch"
   ]
  },
  {
   "cell_type": "markdown",
   "metadata": {},
   "source": [
    "### Load Libraries"
   ]
  },
  {
   "cell_type": "code",
   "execution_count": 1,
   "metadata": {},
   "outputs": [],
   "source": [
    "import torch\n",
    "from torchvision.transforms import ToTensor\n",
    "from torch.utils.data import ConcatDataset, Dataset, DataLoader, random_split\n",
    "from torchvision import transforms\n",
    "from torchvision.datasets import MNIST\n",
    "import numpy as np\n",
    "import zipfile\n",
    "import pandas as pd\n",
    "import matplotlib.pyplot as plt\n",
    "import seaborn as sns\n",
    "from sklearn.preprocessing import LabelBinarizer\n",
    "from sklearn.model_selection import train_test_split\n",
    "from sklearn.metrics import classification_report\n",
    "from PIL import Image\n",
    "\n",
    "from dataloader.dataset import MNISTAndKaggleAZCombined"
   ]
  },
  {
   "cell_type": "code",
   "execution_count": null,
   "metadata": {},
   "outputs": [],
   "source": [
    "## Download Kaggle A-Z to local env\n",
    "!wget https://iaexpert.academy/arquivos/alfabeto_A-Z.zip"
   ]
  },
  {
   "cell_type": "code",
   "execution_count": null,
   "metadata": {},
   "outputs": [],
   "source": [
    "# Unzip file zip object\n",
    "\n",
    "zip_obj = zipfile.ZipFile(file= 'alfabeto_A-Z.zip', mode= 'r')\n",
    "zip_obj.extractall('data/')\n",
    "zip_obj.close()"
   ]
  },
  {
   "cell_type": "markdown",
   "metadata": {},
   "source": [
    "### Load Data"
   ]
  },
  {
   "cell_type": "code",
   "execution_count": 2,
   "metadata": {},
   "outputs": [],
   "source": [
    "mnist_root = 'data'\n",
    "az_csv_file = 'data/A_Z Handwritten Data.csv'\n",
    "\n",
    "data = MNISTAndKaggleAZCombined(mnist_root, az_csv_file)"
   ]
  },
  {
   "cell_type": "code",
   "execution_count": 3,
   "metadata": {},
   "outputs": [
    {
     "name": "stdout",
     "output_type": "stream",
     "text": [
      "Class Weights: {0: tensor(8.3768), 1: tensor(7.3410), 2: tensor(8.2725), 3: tensor(8.0976), 4: tensor(8.4738), 5: tensor(9.1597), 6: tensor(8.4097), 7: tensor(7.9288), 8: tensor(8.4725), 9: tensor(8.3106), 10: tensor(4.1694), 11: tensor(6.6711), 12: tensor(2.4702), 13: tensor(5.7060), 14: tensor(5.0546), 15: tensor(49.7206), 16: tensor(10.0356), 17: tensor(8.0112), 18: tensor(51.6295), 19: tensor(6.8085), 20: tensor(10.3204), 21: tensor(4.9909), 22: tensor(4.6875), 23: tensor(3.0418), 24: tensor(1.), 25: tensor(2.9898), 26: tensor(9.9492), 27: tensor(4.9996), 28: tensor(1.1943), 29: tensor(2.5706), 30: tensor(1.9934), 31: tensor(13.8271), 32: tensor(5.3621), 33: tensor(9.2195), 34: tensor(5.3251), 35: tensor(9.5170)}\n"
     ]
    }
   ],
   "source": [
    "# Get class weights\n",
    "class_weights = data.get_class_weights()\n",
    "print(\"Class Weights:\", class_weights)"
   ]
  },
  {
   "cell_type": "code",
   "execution_count": 4,
   "metadata": {},
   "outputs": [],
   "source": [
    "train_dataset, test_dataset = data.train_test_split()"
   ]
  },
  {
   "cell_type": "code",
   "execution_count": 5,
   "metadata": {},
   "outputs": [],
   "source": [
    "augmentation_transform = transforms.Compose([\n",
    "    transforms.RandomRotation(degrees=10),\n",
    "    transforms.RandomResizedCrop(size=28, scale=(0.95, 1.0)),\n",
    "    transforms.RandomHorizontalFlip(p=0),  # No horizontal flip\n",
    "    transforms.RandomAffine(degrees=0, translate=(0.1, 0.1)),  # Width and height shift\n",
    "    transforms.ToTensor(),  # Convert image to tensor\n",
    "    transforms.Normalize((0.5,), (0.5,))  # Normalize\n",
    "])\n",
    "train_dataset.dataset.transform = augmentation_transform\n",
    "\n",
    "# Define a simple transformation (without augmentations) for the test set\n",
    "simple_transform = transforms.Compose([\n",
    "    transforms.ToTensor(),\n",
    "    transforms.Normalize((0.5,), (0.5,))\n",
    "])\n",
    "test_dataset.dataset.transform = simple_transform"
   ]
  },
  {
   "cell_type": "code",
   "execution_count": null,
   "metadata": {},
   "outputs": [],
   "source": []
  }
 ],
 "metadata": {
  "kernelspec": {
   "display_name": ".venv",
   "language": "python",
   "name": "python3"
  },
  "language_info": {
   "codemirror_mode": {
    "name": "ipython",
    "version": 3
   },
   "file_extension": ".py",
   "mimetype": "text/x-python",
   "name": "python",
   "nbconvert_exporter": "python",
   "pygments_lexer": "ipython3",
   "version": "3.9.4"
  }
 },
 "nbformat": 4,
 "nbformat_minor": 2
}
